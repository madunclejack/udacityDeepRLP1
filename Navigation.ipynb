{
 "cells": [
  {
   "cell_type": "markdown",
   "metadata": {},
   "source": [
    "# Navigation\n",
    "\n",
    "---\n",
    "\n",
    "You are welcome to use this coding environment to train your agent for the project.  Follow the instructions below to get started!\n",
    "\n",
    "### 1. Start the Environment\n",
    "\n",
    "Run the next code cell to install a few packages.  This line will take a few minutes to run!"
   ]
  },
  {
   "cell_type": "code",
   "execution_count": 1,
   "metadata": {},
   "outputs": [],
   "source": [
    "# To Run my agent:\n",
    "# Run the import torch cell below\n",
    "# The from unityagents cell\n",
    "# brain name cell\n",
    "# runAgent cell\n",
    "# cell after that calls runAgent"
   ]
  },
  {
   "cell_type": "code",
   "execution_count": 2,
   "metadata": {},
   "outputs": [
    {
     "name": "stdout",
     "output_type": "stream",
     "text": [
      "0.4.0a0+3749c58\n",
      "\u001b[33m  DEPRECATION: A future pip version will change local packages to be built in-place without first copying to a temporary directory. We recommend you use --use-feature=in-tree-build to test your packages with this new behavior before it becomes the default.\n",
      "   pip 21.3 will remove support for this functionality. You can find discussion regarding this at https://github.com/pypa/pip/issues/7555.\u001b[0m\n",
      "\u001b[31mERROR: Could not find a version that satisfies the requirement torch==0.4.0 (from unityagents) (from versions: 1.0.0, 1.0.1, 1.1.0, 1.2.0, 1.3.0, 1.3.1, 1.4.0, 1.5.0, 1.5.1, 1.6.0, 1.7.0, 1.7.1, 1.8.0, 1.8.1, 1.9.0, 1.9.1, 1.10.0, 1.10.1, 1.10.2)\u001b[0m\n",
      "\u001b[31mERROR: No matching distribution found for torch==0.4.0\u001b[0m\n"
     ]
    }
   ],
   "source": [
    "import torch\n",
    "print(torch.__version__)\n",
    "!pip -q install ./python"
   ]
  },
  {
   "cell_type": "markdown",
   "metadata": {},
   "source": [
    "The environment is already saved in the Workspace and can be accessed at the file path provided below.  Please run the next code cell without making any changes."
   ]
  },
  {
   "cell_type": "code",
   "execution_count": 3,
   "metadata": {},
   "outputs": [
    {
     "name": "stderr",
     "output_type": "stream",
     "text": [
      "INFO:unityagents:\n",
      "'Academy' started successfully!\n",
      "Unity Academy name: Academy\n",
      "        Number of Brains: 1\n",
      "        Number of External Brains : 1\n",
      "        Lesson number : 0\n",
      "        Reset Parameters :\n",
      "\t\t\n",
      "Unity brain name: BananaBrain\n",
      "        Number of Visual Observations (per agent): 0\n",
      "        Vector Observation space type: continuous\n",
      "        Vector Observation space size (per agent): 37\n",
      "        Number of stacked Vector Observation: 1\n",
      "        Vector Action space type: discrete\n",
      "        Vector Action space size (per agent): 4\n",
      "        Vector Action descriptions: , , , \n"
     ]
    }
   ],
   "source": [
    "from unityagents import UnityEnvironment\n",
    "import numpy as np\n",
    "\n",
    "# please do not modify the line below\n",
    "env = UnityEnvironment(file_name=\"Banana_Linux_NoVis/Banana.x86_64\")\n",
    "#env = UnityEnvironment(file_name=\"Banana_Linux/Banana.x86_64\")"
   ]
  },
  {
   "cell_type": "markdown",
   "metadata": {},
   "source": [
    "Environments contain **_brains_** which are responsible for deciding the actions of their associated agents. Here we check for the first brain available, and set it as the default brain we will be controlling from Python."
   ]
  },
  {
   "cell_type": "code",
   "execution_count": 4,
   "metadata": {},
   "outputs": [],
   "source": [
    "# get the default brain\n",
    "brain_name = env.brain_names[0]\n",
    "brain = env.brains[brain_name]"
   ]
  },
  {
   "cell_type": "markdown",
   "metadata": {},
   "source": [
    "### 4. It's Your Turn!\n",
    "\n",
    "Now it's your turn to train your own agent to solve the environment!  A few **important notes**:\n",
    "- When training the environment, set `train_mode=True`, so that the line for resetting the environment looks like the following:\n",
    "```python\n",
    "env_info = env.reset(train_mode=True)[brain_name]\n",
    "```\n",
    "- To structure your work, you're welcome to work directly in this Jupyter notebook, or you might like to start over with a new file!  You can see the list of files in the workspace by clicking on **_Jupyter_** in the top left corner of the notebook.\n",
    "- In this coding environment, you will not be able to watch the agent while it is training.  However, **_after training the agent_**, you can download the saved model weights to watch the agent on your own machine! "
   ]
  },
  {
   "cell_type": "code",
   "execution_count": 5,
   "metadata": {},
   "outputs": [],
   "source": [
    "from collections import deque\n",
    "from dqnAgent import Agent\n",
    "\n",
    "def runAgent(numEpisodes, maxSteps, epsStart, epsEnd, epsDecay):\n",
    "    \"\"\"\n",
    "    Run the Deep Q-Network agent\n",
    "    ============================\n",
    "    numEpisodes: number of episodes to run\n",
    "    maxSteps: maximum number of timesteps to take per episode\n",
    "    epsStart: starting value for epsilon\n",
    "    epsEnd: minimum value for epsilon\n",
    "    epsDecay: epsilon decay rate\n",
    "    \"\"\"\n",
    "    \n",
    "    # Initialize score containers\n",
    "    scoreList = []\n",
    "    last100Scores = deque(maxlen=100)\n",
    "    \n",
    "    # Initialize epsilon learning rate\n",
    "    epsilon = epsStart\n",
    "    \n",
    "    # Create agent\n",
    "    env_info = env.reset(train_mode=True)[brain_name]\n",
    "    state_size = len(env_info.vector_observations[0])\n",
    "    action_size = brain.vector_action_space_size\n",
    "    agent = Agent(state_size, action_size, seed=0)\n",
    "    \n",
    "    # Begin training\n",
    "    for episodeNum in range(1, numEpisodes + 1):\n",
    "        env_info = env.reset(train_mode=True)[brain_name]\n",
    "        score = 0\n",
    "        \n",
    "        for stepNum in range(maxSteps):\n",
    "            # Get the current agent state from the environment\n",
    "            state = env_info.vector_observations[0]\n",
    "            # Take an action given the current state\n",
    "            action = agent.act(state, epsilon)\n",
    "            # Use the action to step in the environment\n",
    "            env_info = env.step(action)[brain_name]\n",
    "            # Get the next state\n",
    "            nextState = env_info.vector_observations[0]\n",
    "            # Get the reward\n",
    "            reward = env_info.rewards[0]\n",
    "            # Check if done\n",
    "            done = env_info.local_done[0]\n",
    "            # Provide the data to the agent for learning\n",
    "            agent.step(state, action, reward, nextState, done)\n",
    "            \n",
    "            state = nextState\n",
    "            score += reward\n",
    "            if done:\n",
    "                break\n",
    "        scoreList.append(score)\n",
    "        last100Scores.append(score)\n",
    "        \n",
    "        # Update epsilon value\n",
    "        epsilon = max(epsEnd, epsilon*epsDecay)\n",
    "        print('\\rEpisode {}\\tAverage Score: {:.2f}'.format(episodeNum, np.mean(last100Scores)), end=\"\")\n",
    "        \n",
    "        if episodeNum % 100 == 0:\n",
    "            print('\\rEpisode {}\\tAverage Score: {:.2f}'.format(episodeNum, np.mean(last100Scores)))\n",
    "            \n",
    "        if np.mean(last100Scores)>=14.0:\n",
    "            print('\\nEnvironment solved in {:d} episodes!\\tAverage Score: {:.2f}'.format(episodeNum-100, np.mean(last100Scores)))\n",
    "            torch.save(agent.QNet_Local.state_dict(), 'checkpoint_ddqn.pth')\n",
    "            break\n",
    "    return scoreList"
   ]
  },
  {
   "cell_type": "code",
   "execution_count": 6,
   "metadata": {
    "scrolled": true
   },
   "outputs": [
    {
     "name": "stdout",
     "output_type": "stream",
     "text": [
      "Episode 100\tAverage Score: 0.33\n",
      "Episode 200\tAverage Score: 1.47\n",
      "Episode 300\tAverage Score: 3.89\n",
      "Episode 400\tAverage Score: 5.12\n",
      "Episode 500\tAverage Score: 6.87\n",
      "Episode 600\tAverage Score: 8.97\n",
      "Episode 700\tAverage Score: 10.13\n",
      "Episode 800\tAverage Score: 11.42\n",
      "Episode 900\tAverage Score: 12.17\n",
      "Episode 1000\tAverage Score: 12.43\n",
      "Episode 1100\tAverage Score: 13.17\n",
      "Episode 1200\tAverage Score: 12.35\n",
      "Episode 1300\tAverage Score: 12.32\n",
      "Episode 1400\tAverage Score: 12.51\n",
      "Episode 1500\tAverage Score: 12.48\n",
      "Episode 1600\tAverage Score: 12.65\n",
      "Episode 1700\tAverage Score: 13.07\n",
      "Episode 1800\tAverage Score: 11.93\n",
      "Episode 1900\tAverage Score: 12.88\n",
      "Episode 2000\tAverage Score: 13.81\n",
      "Episode 2033\tAverage Score: 14.02\n",
      "Environment solved in 1933 episodes!\tAverage Score: 14.02\n"
     ]
    }
   ],
   "source": [
    "numEpisodes = 5000\n",
    "maxSteps = 500\n",
    "epsStart = 0.999\n",
    "epsEnd = 0.01\n",
    "epsDecay = 0.995\n",
    "scores = runAgent(numEpisodes, maxSteps, epsStart, epsEnd, epsDecay)"
   ]
  },
  {
   "cell_type": "code",
   "execution_count": 9,
   "metadata": {},
   "outputs": [],
   "source": [
    "def plot_result(scores):\n",
    "    # plot the scores\n",
    "    fig = plt.figure()\n",
    "    ax = fig.add_subplot(111)\n",
    "    plt.plot(np.arange(len(scores)), scores)\n",
    "    plt.title('Training Scores', fontsize=22)\n",
    "    plt.ylabel('Score', fontsize=18)\n",
    "    plt.xlabel('Episode #', fontsize=18)\n",
    "    ax.tick_params(axis='x', labelsize=14)\n",
    "    ax.tick_params(axis='y', labelsize=14)\n",
    "    plt.savefig('Training Scores.png')\n",
    "    plt.show()"
   ]
  },
  {
   "cell_type": "code",
   "execution_count": 10,
   "metadata": {},
   "outputs": [
    {
     "data": {
      "image/png": "[encoded data removed]",
      "text/plain": [
       "<Figure size 432x288 with 1 Axes>"
      ]
     },
     "metadata": {
      "needs_background": "light"
     },
     "output_type": "display_data"
    }
   ],
   "source": [
    "import matplotlib.pyplot as plt\n",
    "plot_result(scores)"
   ]
  },
  {
   "cell_type": "code",
   "execution_count": null,
   "metadata": {},
   "outputs": [],
   "source": []
  }
 ],
 "metadata": {
  "kernelspec": {
   "display_name": "Python 3",
   "language": "python",
   "name": "python3"
  },
  "language_info": {
   "codemirror_mode": {
    "name": "ipython",
    "version": 3
   },
   "file_extension": ".py",
   "mimetype": "text/x-python",
   "name": "python",
   "nbconvert_exporter": "python",
   "pygments_lexer": "ipython3",
   "version": "3.6.13"
  }
 },
 "nbformat": 4,
 "nbformat_minor": 2
}
